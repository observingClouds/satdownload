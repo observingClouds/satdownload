{
 "cells": [
  {
   "cell_type": "markdown",
   "metadata": {},
   "source": [
    "# Download AMSR data"
   ]
  },
  {
   "cell_type": "markdown",
   "metadata": {},
   "source": [
    "DataAccess in general\n",
    "- https://podaac.jpl.nasa.gov/dataset/AMSR2-REMSS-L3U-v8a\n",
    "\n",
    "OpenDAP-Link\n",
    "- https://podaac-opendap.jpl.nasa.gov/opendap/allData/ghrsst/data/GDS2/L3U/AMSR2/REMSS/v8a/"
   ]
  },
  {
   "cell_type": "code",
   "execution_count": 1,
   "metadata": {},
   "outputs": [],
   "source": [
    "import xarray as xr\n",
    "import sys\n",
    "sys.path.append('../../BCO/')\n",
    "from general import *"
   ]
  },
  {
   "cell_type": "code",
   "execution_count": 16,
   "metadata": {},
   "outputs": [],
   "source": [
    "link = 'https://podaac-opendap.jpl.nasa.gov/opendap/allData/ghrsst/data/GDS2/L3U/AMSR2/REMSS/v8a/2017/005/20170105000000-REMSS-L3U_GHRSST-SSTsubskin-AMSR2-f34_20170105v8-v02.0-fv01.0.nc'"
   ]
  },
  {
   "cell_type": "code",
   "execution_count": 30,
   "metadata": {},
   "outputs": [],
   "source": [
    "ds = xr.open_dataset(link, drop_variables=['dt_analysis','sses_bias','sses_standard_deviation',\n",
    "                                           'diurnal_amplitude','cool_skin','wind_speed',\n",
    "                                           'sea_ice_fraction','proximity_confidence', 'rain_rate', 'sst_dtime'])"
   ]
  },
  {
   "cell_type": "code",
   "execution_count": 31,
   "metadata": {},
   "outputs": [],
   "source": [
    "lat = [5,60]\n",
    "lon = [-75,-5]"
   ]
  },
  {
   "cell_type": "code",
   "execution_count": 32,
   "metadata": {},
   "outputs": [],
   "source": [
    "ds_sel = ds.sel({'lat':slice(lat[0],lat[1]), 'lon':slice(lon[0],lon[1])})"
   ]
  },
  {
   "cell_type": "code",
   "execution_count": 33,
   "metadata": {},
   "outputs": [],
   "source": [
    "ds_sel = compress_all_variables(ds_sel)"
   ]
  },
  {
   "cell_type": "code",
   "execution_count": 34,
   "metadata": {},
   "outputs": [],
   "source": [
    "ds_sel.to_netcdf('test.nc')"
   ]
  },
  {
   "cell_type": "code",
   "execution_count": 29,
   "metadata": {},
   "outputs": [
    {
     "data": {
      "text/plain": [
       "<xarray.Dataset>\n",
       "Dimensions:                  (lat: 220, lon: 260, time: 2)\n",
       "Coordinates:\n",
       "  * time                     (time) datetime64[ns] 2017-01-05 2017-01-06\n",
       "  * lat                      (lat) float32 5.125 5.375 5.625 ... 59.625 59.875\n",
       "  * lon                      (lon) float32 -69.875 -69.625 ... -5.375 -5.125\n",
       "Data variables:\n",
       "    sea_surface_temperature  (time, lat, lon) float32 ...\n",
       "    sst_dtime                (time, lat, lon) float64 ...\n",
       "    dt_analysis              (time, lat, lon) float32 ...\n",
       "    water_vapor              (time, lat, lon) float32 ...\n",
       "    cloud_liquid_water       (time, lat, lon) float32 ...\n",
       "    quality_level            (time, lat, lon) float32 ...\n",
       "    rejection_flag           (time, lat, lon) int16 ...\n",
       "    confidence_flag          (time, lat, lon) int16 ...\n",
       "Attributes:\n",
       "    Conventions:                CF-1.6, Unidata Observation Dataset v1.0\n",
       "    title:                      Sea Surface Temperature from AMSR2 onboard GC...\n",
       "    summary:                    Sea Surface Temperature from AMSR2 onboard GC...\n",
       "    comment:                    This research was supported by the NASA Physi...\n",
       "    references:                 MW SSES Report version 3.0\n",
       "    institution:                REMSS\n",
       "    gds_version_id:             2.0\n",
       "    netcdf_version_id:          4.4\n",
       "    date_created:               20170912T165354Z\n",
       "    uuid:                       d6a1a057-3fc0-4d2b-9a5a-23c1767eb6b8\n",
       "    history:                    created with ghrsst_grid_processor processing\n",
       "    license:                    Free and open\n",
       "    id:                         AMSR2-REMSS-L3U-v8a\n",
       "    naming_authority:           org.ghrsst\n",
       "    product_version:            v8a\n",
       "    file_quality_level:         3\n",
       "    spatial_resolution:         25 km\n",
       "    start_time:                 20170105T000000Z\n",
       "    stop_time:                  20170106T000000Z\n",
       "    time_coverage_start:        20170105T000000Z\n",
       "    time_coverage_end:          20170106T000000Z\n",
       "    southernmost_latitude:      -89.875\n",
       "    northernmost_latitude:      89.875\n",
       "    westernmost_longitude:      -179.875\n",
       "    easternmost_longitude:      179.875\n",
       "    source:                     AMSR2-REMSS-L3U-v8a\n",
       "    platform:                   GCOM-W1\n",
       "    sensor:                     AMSR2\n",
       "    Metadata_Conventions:       Unidata Dataset Discovery V1.0\n",
       "    metadata_link:              http://podaac.jpl.nasa.gov/ws/metadata/datase...\n",
       "    keywords:                   Oceans > Ocean Temperature > Sea Surface Temp...\n",
       "    keywords_vocabulary:        NASA Global Change Master Directory (GCMD) Sc...\n",
       "    standard_name_vocabulary:   NetCDF Climate and Forecast (CF) Metadata Con...\n",
       "    geospatial_lat_units:       degrees_north\n",
       "    geospatial_lat_resolution:  0.25\n",
       "    geospatial_lon_units:       degrees_east\n",
       "    geospatial_lon_resolution:  0.25\n",
       "    acknowledgment:             http://www.remss.com/missions/AMSR2\n",
       "    creator_name:               Remote Sensing Systems\n",
       "    creator_email:              support@remss.com\n",
       "    creator_url:                www.remss.com\n",
       "    project:                    Group for High Resolution Sea Surface Tempera...\n",
       "    publisher_name:             The GHRSST Project Office\n",
       "    publisher_url:              http://www.ghrsst.org\n",
       "    publisher_email:            ghrsst-po@nceo.ac.uk\n",
       "    processing_level:           L3U\n",
       "    cdm_data_type:              grid"
      ]
     },
     "execution_count": 29,
     "metadata": {},
     "output_type": "execute_result"
    }
   ],
   "source": [
    "ds_sel"
   ]
  },
  {
   "cell_type": "markdown",
   "metadata": {},
   "source": [
    "## Batch-Download"
   ]
  },
  {
   "cell_type": "code",
   "execution_count": 25,
   "metadata": {},
   "outputs": [],
   "source": [
    "import xarray as xr\n",
    "import sys\n",
    "import datetime as dt\n",
    "import pandas as pd\n",
    "import tqdm\n",
    "sys.path.append('../../BCO/')\n",
    "from general import *"
   ]
  },
  {
   "cell_type": "code",
   "execution_count": 22,
   "metadata": {},
   "outputs": [],
   "source": [
    "PATH_BASE = 'https://podaac-opendap.jpl.nasa.gov/opendap/allData/ghrsst/data/GDS2/L3U/AMSR2/REMSS/v8a/{year}/{jday:03g}/'\n",
    "FILE_FMT = '{yyyymmdd}000000-REMSS-L3U_GHRSST-SSTsubskin-AMSR2-f34_{yyyymmdd}v8-v02.0-fv01.0.nc'\n",
    "\n",
    "OUTPUT_PATH = './'\n",
    "OUTPUT_FMT = 'AMSR__L3__{yyyymmdd}.nc'\n",
    "\n",
    "lat = [5,60]\n",
    "lon = [-75,-5]"
   ]
  },
  {
   "cell_type": "code",
   "execution_count": 23,
   "metadata": {},
   "outputs": [],
   "source": [
    "dates = pd.date_range(dt.datetime(2013,1,1), dt.datetime(2014,1,1))"
   ]
  },
  {
   "cell_type": "code",
   "execution_count": 29,
   "metadata": {},
   "outputs": [],
   "source": [
    "def add_metadata(ds):\n",
    "    \"\"\"\n",
    "    Add additional metadata to netcdf files\n",
    "    \"\"\"\n",
    "    ds.attrs['created_with'] = 'download_AMSRsubsets.ipynb'\n",
    "    ds.attrs['created_on'] = dt.datetime.now().strftime('%Y%m%d %H:%M')\n",
    "    \n",
    "    return ds"
   ]
  },
  {
   "cell_type": "code",
   "execution_count": null,
   "metadata": {},
   "outputs": [],
   "source": [
    "for date in tqdm.tqdm(dates):\n",
    "    jday = date.dayofyear\n",
    "    year = date.year\n",
    "    yyyymmdd = date.strftime('%Y%m%d')\n",
    "    \n",
    "    path = PATH_BASE.format(year=year, jday=jday)\n",
    "    link = path+FILE_FMT.format(yyyymmdd=yyyymmdd)\n",
    "    try:\n",
    "        ds = xr.open_dataset(link, drop_variables=['dt_analysis','sses_bias','sses_standard_deviation',\n",
    "                                               'diurnal_amplitude','cool_skin','wind_speed',\n",
    "                                               'sea_ice_fraction','proximity_confidence', 'rain_rate', 'sst_dtime'])\n",
    "    except KeyError:\n",
    "        print(f'File {link} not found.')\n",
    "        continue\n",
    "    else:\n",
    "        ds_sel = ds.sel({'lat':slice(lat[0],lat[1]), 'lon':slice(lon[0],lon[1])})\n",
    "        ds_sel = compress_all_variables(ds_sel)\n",
    "        ds_sel = add_metadata(ds_sel)\n",
    "        ds_sel.to_netcdf(OUTPUT_PATH+OUTPUT_FMT.format(yyyymmdd=yyyymmdd))"
   ]
  },
  {
   "cell_type": "code",
   "execution_count": 34,
   "metadata": {},
   "outputs": [
    {
     "data": {
      "text/plain": [
       "<xarray.Dataset>\n",
       "Dimensions:                  (lat: 220, lon: 280, time: 258)\n",
       "Coordinates:\n",
       "  * lat                      (lat) float32 5.125 5.375 5.625 ... 59.625 59.875\n",
       "  * lon                      (lon) float32 -74.875 -74.625 ... -5.375 -5.125\n",
       "  * time                     (time) datetime64[ns] 2013-01-01 ... 2013-05-10T20:48:00\n",
       "Data variables:\n",
       "    sea_surface_temperature  (time, lat, lon) float32 dask.array<shape=(258, 220, 280), chunksize=(2, 220, 280)>\n",
       "    water_vapor              (time, lat, lon) float32 dask.array<shape=(258, 220, 280), chunksize=(2, 220, 280)>\n",
       "    cloud_liquid_water       (time, lat, lon) float32 dask.array<shape=(258, 220, 280), chunksize=(2, 220, 280)>\n",
       "    l2p_flags                (time, lat, lon) int16 dask.array<shape=(258, 220, 280), chunksize=(2, 220, 280)>\n",
       "    quality_level            (time, lat, lon) float32 dask.array<shape=(258, 220, 280), chunksize=(2, 220, 280)>\n",
       "    rejection_flag           (time, lat, lon) int16 dask.array<shape=(258, 220, 280), chunksize=(2, 220, 280)>\n",
       "    confidence_flag          (time, lat, lon) int16 dask.array<shape=(258, 220, 280), chunksize=(2, 220, 280)>\n",
       "Attributes:\n",
       "    Conventions:                CF-1.6, Unidata Observation Dataset v1.0\n",
       "    title:                      Sea Surface Temperature from AMSR2 onboard GC...\n",
       "    summary:                    Sea Surface Temperature from AMSR2 onboard GC...\n",
       "    comment:                    This research was supported by the NASA Physi...\n",
       "    references:                 MW SSES Report version 3.0\n",
       "    institution:                REMSS\n",
       "    gds_version_id:             2.0\n",
       "    netcdf_version_id:          4.4\n",
       "    date_created:               20170912T164601Z\n",
       "    uuid:                       dce8bb19-d841-4822-8818-9e411317b6d5\n",
       "    history:                    created with ghrsst_grid_processor processing\n",
       "    license:                    Free and open\n",
       "    id:                         AMSR2-REMSS-L3U-v8a\n",
       "    naming_authority:           org.ghrsst\n",
       "    product_version:            v8a\n",
       "    file_quality_level:         3\n",
       "    spatial_resolution:         25 km\n",
       "    start_time:                 20130101T000000Z\n",
       "    stop_time:                  20130102T000000Z\n",
       "    time_coverage_start:        20130101T000000Z\n",
       "    time_coverage_end:          20130102T000000Z\n",
       "    southernmost_latitude:      -89.875\n",
       "    northernmost_latitude:      89.875\n",
       "    westernmost_longitude:      -179.875\n",
       "    easternmost_longitude:      179.875\n",
       "    source:                     AMSR2-REMSS-L3U-v8a\n",
       "    platform:                   GCOM-W1\n",
       "    sensor:                     AMSR2\n",
       "    Metadata_Conventions:       Unidata Dataset Discovery V1.0\n",
       "    metadata_link:              http://podaac.jpl.nasa.gov/ws/metadata/datase...\n",
       "    keywords:                   Oceans > Ocean Temperature > Sea Surface Temp...\n",
       "    keywords_vocabulary:        NASA Global Change Master Directory (GCMD) Sc...\n",
       "    standard_name_vocabulary:   NetCDF Climate and Forecast (CF) Metadata Con...\n",
       "    geospatial_lat_units:       degrees_north\n",
       "    geospatial_lat_resolution:  0.25\n",
       "    geospatial_lon_units:       degrees_east\n",
       "    geospatial_lon_resolution:  0.25\n",
       "    acknowledgment:             http://www.remss.com/missions/AMSR2\n",
       "    creator_name:               Remote Sensing Systems\n",
       "    creator_email:              support@remss.com\n",
       "    creator_url:                www.remss.com\n",
       "    project:                    Group for High Resolution Sea Surface Tempera...\n",
       "    publisher_name:             The GHRSST Project Office\n",
       "    publisher_url:              http://www.ghrsst.org\n",
       "    publisher_email:            ghrsst-po@nceo.ac.uk\n",
       "    processing_level:           L3U\n",
       "    cdm_data_type:              grid\n",
       "    created_with:               download_AMSRsubsets.ipynb\n",
       "    created_on:                 20200106 15:57"
      ]
     },
     "execution_count": 34,
     "metadata": {},
     "output_type": "execute_result"
    }
   ],
   "source": [
    "xr.open_mfdataset('AMSR__L3__*.nc', concat_dim='time', combine='by_coords')"
   ]
  },
  {
   "cell_type": "code",
   "execution_count": null,
   "metadata": {},
   "outputs": [],
   "source": []
  }
 ],
 "metadata": {
  "kernelspec": {
   "display_name": "Python 3",
   "language": "python",
   "name": "python3"
  },
  "language_info": {
   "codemirror_mode": {
    "name": "ipython",
    "version": 3
   },
   "file_extension": ".py",
   "mimetype": "text/x-python",
   "name": "python",
   "nbconvert_exporter": "python",
   "pygments_lexer": "ipython3",
   "version": "3.6.7"
  }
 },
 "nbformat": 4,
 "nbformat_minor": 4
}
